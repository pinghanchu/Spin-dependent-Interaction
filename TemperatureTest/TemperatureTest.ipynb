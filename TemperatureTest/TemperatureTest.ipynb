{
 "cells": [
  {
   "cell_type": "code",
   "execution_count": 3,
   "metadata": {},
   "outputs": [
    {
     "data": {
      "text/html": [
       "<div>\n",
       "<style>\n",
       "    .dataframe thead tr:only-child th {\n",
       "        text-align: right;\n",
       "    }\n",
       "\n",
       "    .dataframe thead th {\n",
       "        text-align: left;\n",
       "    }\n",
       "\n",
       "    .dataframe tbody tr th {\n",
       "        vertical-align: top;\n",
       "    }\n",
       "</style>\n",
       "<table border=\"1\" class=\"dataframe\">\n",
       "  <thead>\n",
       "    <tr style=\"text-align: right;\">\n",
       "      <th></th>\n",
       "      <th>Time</th>\n",
       "      <th>Iterator</th>\n",
       "      <th>Temp A</th>\n",
       "      <th>Temp B</th>\n",
       "    </tr>\n",
       "  </thead>\n",
       "  <tbody>\n",
       "    <tr>\n",
       "      <th>0</th>\n",
       "      <td>180126120533</td>\n",
       "      <td>1</td>\n",
       "      <td>75.235</td>\n",
       "      <td>291.63</td>\n",
       "    </tr>\n",
       "    <tr>\n",
       "      <th>1</th>\n",
       "      <td>180126120534</td>\n",
       "      <td>2</td>\n",
       "      <td>75.232</td>\n",
       "      <td>292.03</td>\n",
       "    </tr>\n",
       "    <tr>\n",
       "      <th>2</th>\n",
       "      <td>180126120535</td>\n",
       "      <td>3</td>\n",
       "      <td>75.290</td>\n",
       "      <td>292.42</td>\n",
       "    </tr>\n",
       "    <tr>\n",
       "      <th>3</th>\n",
       "      <td>180126120536</td>\n",
       "      <td>4</td>\n",
       "      <td>75.260</td>\n",
       "      <td>292.77</td>\n",
       "    </tr>\n",
       "    <tr>\n",
       "      <th>4</th>\n",
       "      <td>180126120537</td>\n",
       "      <td>5</td>\n",
       "      <td>75.378</td>\n",
       "      <td>293.09</td>\n",
       "    </tr>\n",
       "  </tbody>\n",
       "</table>\n",
       "</div>"
      ],
      "text/plain": [
       "           Time  Iterator  Temp A  Temp B\n",
       "0  180126120533         1  75.235  291.63\n",
       "1  180126120534         2  75.232  292.03\n",
       "2  180126120535         3  75.290  292.42\n",
       "3  180126120536         4  75.260  292.77\n",
       "4  180126120537         5  75.378  293.09"
      ]
     },
     "execution_count": 3,
     "metadata": {},
     "output_type": "execute_result"
    }
   ],
   "source": [
    "import matplotlib as mpl\n",
    "import matplotlib.pyplot as plt\n",
    "from mpl_toolkits.mplot3d import Axes3D\n",
    "import numpy as np\n",
    "from numpy import linalg as LA\n",
    "import pandas as pd\n",
    "from pandas import DataFrame, Series  # for convenience\n",
    "import pims\n",
    "import trackpy as tp\n",
    "import math\n",
    "from scipy.misc import imsave\n",
    "from scipy.misc import imread\n",
    "copper = pd.read_csv(\"20180125_2.csv\")\n",
    "plastic = pd.read_csv(\"20180125_3.csv\")\n",
    "copper.columns = ['Time','Iterator','Temp A','Temp B'] \n",
    "copper.head()\n",
    "plastic.columns = ['Time','Iterator','Temp A','Temp B'] \n",
    "plastic.head()\n",
    "#print(df['Particle'].unique())"
   ]
  },
  {
   "cell_type": "code",
   "execution_count": 4,
   "metadata": {},
   "outputs": [
    {
     "data": {
      "image/png": "[encoded data removed]",
      "text/plain": [
       "<matplotlib.figure.Figure at 0x1c13ebffd0>"
      ]
     },
     "metadata": {},
     "output_type": "display_data"
    }
   ],
   "source": [
    "Track1 = copper[copper['Iterator']<40000]\n",
    "Track2 = plastic[plastic['Iterator']<40000]\n",
    "fig = plt.figure(figsize=(12,12))\n",
    "plt.scatter(Track1['Iterator'],Track1['Temp B'],label='copper')\n",
    "plt.scatter(Track2['Iterator'],Track2['Temp B'],label='plastic')\n",
    "plt.xlabel('Time(sec)')\n",
    "plt.ylabel('Temperature(K)')\n",
    "#plt.yscale(\"log\", nonposy='clip')\n",
    "plt.legend()\n",
    "plt.savefig('temp_cooling.pdf')\n",
    "plt.show()"
   ]
  },
  {
   "cell_type": "code",
   "execution_count": null,
   "metadata": {
    "collapsed": true
   },
   "outputs": [],
   "source": []
  }
 ],
 "metadata": {
  "kernelspec": {
   "display_name": "Python 2",
   "language": "python",
   "name": "python2"
  },
  "language_info": {
   "codemirror_mode": {
    "name": "ipython",
    "version": 2
   },
   "file_extension": ".py",
   "mimetype": "text/x-python",
   "name": "python",
   "nbconvert_exporter": "python",
   "pygments_lexer": "ipython2",
   "version": "2.7.13"
  }
 },
 "nbformat": 4,
 "nbformat_minor": 2
}
