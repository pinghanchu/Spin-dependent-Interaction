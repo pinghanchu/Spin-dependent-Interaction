{
 "cells": [
  {
   "cell_type": "code",
   "execution_count": 3,
   "metadata": {},
   "outputs": [
    {
     "data": {
      "text/html": [
       "<div>\n",
       "<style>\n",
       "    .dataframe thead tr:only-child th {\n",
       "        text-align: right;\n",
       "    }\n",
       "\n",
       "    .dataframe thead th {\n",
       "        text-align: left;\n",
       "    }\n",
       "\n",
       "    .dataframe tbody tr th {\n",
       "        vertical-align: top;\n",
       "    }\n",
       "</style>\n",
       "<table border=\"1\" class=\"dataframe\">\n",
       "  <thead>\n",
       "    <tr style=\"text-align: right;\">\n",
       "      <th></th>\n",
       "      <th>Time</th>\n",
       "      <th>Iterator</th>\n",
       "      <th>Temp A</th>\n",
       "      <th>Temp B</th>\n",
       "    </tr>\n",
       "  </thead>\n",
       "  <tbody>\n",
       "    <tr>\n",
       "      <th>0</th>\n",
       "      <td>1.801250e+11</td>\n",
       "      <td>1</td>\n",
       "      <td>174.37</td>\n",
       "      <td>291.27</td>\n",
       "    </tr>\n",
       "    <tr>\n",
       "      <th>1</th>\n",
       "      <td>1.801250e+11</td>\n",
       "      <td>2</td>\n",
       "      <td>173.35</td>\n",
       "      <td>291.52</td>\n",
       "    </tr>\n",
       "    <tr>\n",
       "      <th>2</th>\n",
       "      <td>1.801250e+11</td>\n",
       "      <td>3</td>\n",
       "      <td>171.05</td>\n",
       "      <td>291.50</td>\n",
       "    </tr>\n",
       "    <tr>\n",
       "      <th>3</th>\n",
       "      <td>1.801250e+11</td>\n",
       "      <td>4</td>\n",
       "      <td>169.21</td>\n",
       "      <td>291.32</td>\n",
       "    </tr>\n",
       "    <tr>\n",
       "      <th>4</th>\n",
       "      <td>1.801250e+11</td>\n",
       "      <td>5</td>\n",
       "      <td>168.26</td>\n",
       "      <td>290.98</td>\n",
       "    </tr>\n",
       "  </tbody>\n",
       "</table>\n",
       "</div>"
      ],
      "text/plain": [
       "           Time  Iterator  Temp A  Temp B\n",
       "0  1.801250e+11         1  174.37  291.27\n",
       "1  1.801250e+11         2  173.35  291.52\n",
       "2  1.801250e+11         3  171.05  291.50\n",
       "3  1.801250e+11         4  169.21  291.32\n",
       "4  1.801250e+11         5  168.26  290.98"
      ]
     },
     "execution_count": 3,
     "metadata": {},
     "output_type": "execute_result"
    }
   ],
   "source": [
    "import matplotlib as mpl\n",
    "import matplotlib.pyplot as plt\n",
    "from mpl_toolkits.mplot3d import Axes3D\n",
    "import numpy as np\n",
    "from numpy import linalg as LA\n",
    "import pandas as pd\n",
    "from pandas import DataFrame, Series  # for convenience\n",
    "import pims\n",
    "import trackpy as tp\n",
    "import math\n",
    "from scipy.misc import imsave\n",
    "from scipy.misc import imread\n",
    "\n",
    "df = pd.read_csv(\"20180125_2.csv\")\n",
    "df.columns = ['Time','Iterator','Temp A','Temp B'] \n",
    "df.head()\n",
    "#print(df['Particle'].unique())"
   ]
  },
  {
   "cell_type": "code",
   "execution_count": 8,
   "metadata": {},
   "outputs": [
    {
     "data": {
      "image/png": "[encoded data removed]",
      "text/plain": [
       "<matplotlib.figure.Figure at 0x1c1e473fd0>"
      ]
     },
     "metadata": {},
     "output_type": "display_data"
    }
   ],
   "source": [
    "Track = df[df['Iterator']<40000]\n",
    "fig = plt.figure(figsize=(12,12))\n",
    "plt.scatter(Track['Iterator'],Track['Temp B'],label='outside')\n",
    "plt.xlabel('Time(sec)')\n",
    "plt.ylabel('Temperature(K)')\n",
    "#plt.yscale(\"log\", nonposy='clip')\n",
    "plt.legend()\n",
    "plt.savefig('temp_copper.pdf')\n",
    "plt.show()"
   ]
  },
  {
   "cell_type": "code",
   "execution_count": null,
   "metadata": {
    "collapsed": true
   },
   "outputs": [],
   "source": []
  }
 ],
 "metadata": {
  "kernelspec": {
   "display_name": "Python 2",
   "language": "python",
   "name": "python2"
  },
  "language_info": {
   "codemirror_mode": {
    "name": "ipython",
    "version": 2
   },
   "file_extension": ".py",
   "mimetype": "text/x-python",
   "name": "python",
   "nbconvert_exporter": "python",
   "pygments_lexer": "ipython2",
   "version": "2.7.13"
  }
 },
 "nbformat": 4,
 "nbformat_minor": 2
}
